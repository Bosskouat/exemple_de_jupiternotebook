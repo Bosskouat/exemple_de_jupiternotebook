{
 "cells": [
  {
   "cell_type": "markdown",
   "id": "c2aefb12-c405-4c94-9cca-b81480f98272",
   "metadata": {},
   "source": [
    "# Outils et écosystème de la science des données"
   ]
  },
  {
   "cell_type": "markdown",
   "id": "75aef61c-b045-4307-b25f-ede907dc5e21",
   "metadata": {},
   "source": [
    "Dans ce notebook, les outils et l'écosystème de la science des données sont résumés."
   ]
  },
  {
   "cell_type": "markdown",
   "id": "9694807a-80c5-496b-9f60-720a754b3d1b",
   "metadata": {},
   "source": [
    "__Objectifs:__\n",
    "- Lister les langages populaires pour la science des données\n",
    "- Lister les bibliothèques populaires pour la science des données\n",
    "- Lister les outils la science des données"
   ]
  },
  {
   "cell_type": "markdown",
   "id": "ce033a48-1eb2-4c69-9969-451efac19d34",
   "metadata": {},
   "source": [
    "Certains des langages populaires que les scientifiques des données utilisent sont :\n",
    "\n",
    "1. Python\n",
    "2. R\n",
    "3. SQL"
   ]
  },
  {
   "cell_type": "markdown",
   "id": "a3f869ed-eefa-4b65-ad03-534c5b18e7b4",
   "metadata": {},
   "source": [
    "Certaines des bibliothèques couramment utilisées par les scientifiques des données incluent :\n",
    "\n",
    "1. Pandas\n",
    "2. Numpy\n",
    "3. ggplot"
   ]
  },
  {
   "cell_type": "markdown",
   "id": "498b0eee-0712-4991-901f-f4d807222088",
   "metadata": {},
   "source": [
    "|Outils de la science des données|\n",
    "|--------------------------------|\n",
    "|Jupyter notebook|\n",
    "|Apache Spark|\n",
    "|KNIME|"
   ]
  },
  {
   "cell_type": "markdown",
   "id": "5aa5731e-263b-481b-a35c-9506af58eb8e",
   "metadata": {},
   "source": [
    "Voici quelques exemples d'évaluation d'expressions arithmétiques en Python"
   ]
  },
  {
   "cell_type": "code",
   "execution_count": 22,
   "id": "a9f90db9-c26d-4be1-8155-4874d12b5f44",
   "metadata": {},
   "outputs": [
    {
     "data": {
      "text/plain": [
       "17"
      ]
     },
     "execution_count": 22,
     "metadata": {},
     "output_type": "execute_result"
    }
   ],
   "source": [
    "# Ceci est une simple expression arithmétique pour multiplier puis additionner des entiers\n",
    "(3*4)+5\n"
   ]
  },
  {
   "cell_type": "code",
   "execution_count": 24,
   "id": "956453e3-9342-415b-86b3-fab777eda803",
   "metadata": {},
   "outputs": [
    {
     "data": {
      "text/plain": [
       "3.3333333333333335"
      ]
     },
     "execution_count": 24,
     "metadata": {},
     "output_type": "execute_result"
    }
   ],
   "source": [
    "# Cela convertira 200 minutes en heures en divisant par 60\n",
    "200/60"
   ]
  },
  {
   "cell_type": "markdown",
   "id": "0bc4b23e-2276-462f-b771-8860a59c60e6",
   "metadata": {},
   "source": [
    "## Auteur\n",
    "ACKEY"
   ]
  },
  {
   "cell_type": "code",
   "execution_count": null,
   "id": "3f867a5b-4aee-4d5a-b873-981e424aee93",
   "metadata": {},
   "outputs": [],
   "source": []
  }
 ],
 "metadata": {
  "kernelspec": {
   "display_name": "Python 3 (ipykernel)",
   "language": "python",
   "name": "python3"
  },
  "language_info": {
   "codemirror_mode": {
    "name": "ipython",
    "version": 3
   },
   "file_extension": ".py",
   "mimetype": "text/x-python",
   "name": "python",
   "nbconvert_exporter": "python",
   "pygments_lexer": "ipython3",
   "version": "3.12.4"
  }
 },
 "nbformat": 4,
 "nbformat_minor": 5
}
